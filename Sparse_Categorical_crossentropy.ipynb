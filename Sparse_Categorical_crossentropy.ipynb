{
 "cells": [
  {
   "cell_type": "code",
   "execution_count": 139,
   "metadata": {},
   "outputs": [],
   "source": [
    "from keras.layers import Bidirectional, Concatenate, Permute, Dot, Input, LSTM, Multiply\n",
    "from keras.layers import RepeatVector, Dense, Activation, Lambda\n",
    "from keras.optimizers import Adam\n",
    "from keras.utils import to_categorical\n",
    "from keras.models import load_model, Model\n",
    "import keras.backend as K\n",
    "import numpy as np\n",
    "\n",
    "from faker import Faker\n",
    "import random\n",
    "from tqdm import tqdm\n",
    "from babel.dates import format_date\n",
    "import matplotlib.pyplot as plt\n",
    "import json\n"
   ]
  },
  {
   "cell_type": "code",
   "execution_count": 141,
   "metadata": {},
   "outputs": [],
   "source": [
    "###change data set into [('old', 'new'), (...]\n",
    "json_filename = '/Users/yihe/Desktop/Stanford/yi_can_summarize/data/data.json'\n",
    "sizes_of_text, sizes_of_summary= [] , []\n",
    "with open(json_filename, 'r') as f:\n",
    "    data = json.load(f)\n",
    "all_data = []\n",
    "\n",
    "for key in data.keys():\n",
    "    if len(data[key])>1:\n",
    "        all_data.append((data[key][0].strip(), data[key][1].strip()))\n",
    "        \n",
    "        size_of_text = len(data[key][0].strip().split(' '))\n",
    "        size_of_summary = len(data[key][1].strip().split(' '))\n",
    "        sizes_of_text.append(size_of_text)\n",
    "        sizes_of_summary.append(size_of_summary)\n"
   ]
  },
  {
   "cell_type": "code",
   "execution_count": 142,
   "metadata": {},
   "outputs": [
    {
     "name": "stdout",
     "output_type": "stream",
     "text": [
      "74 14\n"
     ]
    }
   ],
   "source": [
    "Tx, Ty = int(np.percentile(sizes_of_text, 75)), int(np.percentile(sizes_of_summary, 75))\n",
    "print Tx, Ty"
   ]
  },
  {
   "cell_type": "code",
   "execution_count": 143,
   "metadata": {},
   "outputs": [
    {
     "name": "stdout",
     "output_type": "stream",
     "text": [
      "92579\n"
     ]
    }
   ],
   "source": [
    "m = len(all_data)\n",
    "print m"
   ]
  },
  {
   "cell_type": "code",
   "execution_count": 146,
   "metadata": {},
   "outputs": [],
   "source": [
    "## change text into {'word':indx}\n",
    "def create_vocab_list(vocab_text):\n",
    "    vocab_list={}\n",
    "    with open(vocab_text, 'r') as vocab_f:\n",
    "        i=0\n",
    "        for line in vocab_f:\n",
    "            vocab_list[line.split(' ')[0]]=i\n",
    "            i+=1\n",
    "    \n",
    "    return vocab_list\n",
    "\n",
    "human_vocab_file = \"/Users/yihe/Desktop/Stanford/yi_can_summarize/data/human_vocab.txt\"\n",
    "machine_vocab_file = \"/Users/yihe/Desktop/Stanford/yi_can_summarize/data/machine_vocab.txt\"\n",
    "\n",
    "human_vocab, machine_vocab = create_vocab_list(human_vocab_file), create_vocab_list(machine_vocab_file)\n",
    "inv_machine = dict(enumerate(sorted(machine_vocab)))"
   ]
  },
  {
   "cell_type": "code",
   "execution_count": 147,
   "metadata": {},
   "outputs": [
    {
     "name": "stdout",
     "output_type": "stream",
     "text": [
      "number of vocab in human vocab 87199\n",
      "number of vocab in machine vocab 47799\n"
     ]
    },
    {
     "data": {
      "text/plain": [
       "47797"
      ]
     },
     "execution_count": 147,
     "metadata": {},
     "output_type": "execute_result"
    }
   ],
   "source": [
    "print \"number of vocab in human vocab {}\".format(len(human_vocab.keys()))\n",
    "print \"number of vocab in machine vocab {}\".format(len(machine_vocab.keys()))\n",
    "\n",
    "machine_vocab['<UNK>']"
   ]
  },
  {
   "cell_type": "code",
   "execution_count": 148,
   "metadata": {},
   "outputs": [],
   "source": [
    "def preprocess_data(dataset, human_vocab, machine_vocab, Tx, Ty):\n",
    "    \n",
    "    X, Y = zip(*dataset)\n",
    "    \n",
    "    X = np.array([string_to_int_X(i, Tx, human_vocab) for i in X])\n",
    "    Y = [string_to_int_Y(t, Ty, machine_vocab) for t in Y]\n",
    "    \n",
    "    return X, np.array(Y)\n",
    "\n",
    "def string_to_int_X(string, length, vocab):\n",
    "    \"\"\"\n",
    "    Converts all strings in the vocabulary into a list of integers representing the positions of the\n",
    "    input string's characters in the \"vocab\"\n",
    "    \n",
    "    Arguments:\n",
    "    string -- input string, e.g. 'Wed 10 Jul 2007'\n",
    "    length -- the number of time steps you'd like, determines if the output will be padded or cut\n",
    "    vocab -- vocabulary, dictionary used to index every character of your \"string\"\n",
    "    \n",
    "    Returns:\n",
    "    rep -- list of integers (or '<unk>') (size = length) representing the position of the string's character in the vocabulary\n",
    "    \"\"\"\n",
    "    \n",
    "    #make lower to standardize\n",
    "    string = string.split(' ')\n",
    "\n",
    "    if len(string) > length:\n",
    "        string = string[:length]\n",
    "\n",
    "    rep = list(map(lambda x: vocab.get(x,vocab['<UNK>']), string))\n",
    "\n",
    "    if len(string) < length:\n",
    "        rep += [vocab['<PAD>']] * (length - len(string))\n",
    "    \n",
    "    rep = [[i] for i in rep]\n",
    "\n",
    "    #print (rep)\n",
    "    return rep\n",
    "def string_to_int_Y(string, length, vocab):\n",
    "    \"\"\"\n",
    "    Converts all strings in the vocabulary into a list of integers representing the positions of the\n",
    "    input string's characters in the \"vocab\"\n",
    "    \n",
    "    Arguments:\n",
    "    string -- input string, e.g. 'Wed 10 Jul 2007'\n",
    "    length -- the number of time steps you'd like, determines if the output will be padded or cut\n",
    "    vocab -- vocabulary, dictionary used to index every character of your \"string\"\n",
    "    \n",
    "    Returns:\n",
    "    rep -- list of integers (or '<unk>') (size = length) representing the position of the string's character in the vocabulary\n",
    "    \"\"\"\n",
    "    \n",
    "    #make lower to standardize\n",
    "    string = string.split(' ')\n",
    "\n",
    "    if len(string) > length:\n",
    "        string = string[:length]\n",
    "\n",
    "    rep = list(map(lambda x: vocab.get(x,vocab['<UNK>']), string))\n",
    "\n",
    "    if len(string) < length:\n",
    "        rep += [vocab['<PAD>']] * (length - len(string))\n",
    "    \n",
    "    #rep = [[i] for i in rep]\n",
    "\n",
    "    #print (rep)\n",
    "    return rep\n",
    "   \n",
    "   "
   ]
  },
  {
   "cell_type": "code",
   "execution_count": 149,
   "metadata": {},
   "outputs": [],
   "source": [
    "X, Y = preprocess_data(all_data, human_vocab, machine_vocab, Tx, Ty)"
   ]
  },
  {
   "cell_type": "code",
   "execution_count": 150,
   "metadata": {},
   "outputs": [
    {
     "name": "stdout",
     "output_type": "stream",
     "text": [
      "('X.shape:', (92579, 74, 1))\n",
      "('Y.shape:', (92579, 14))\n"
     ]
    }
   ],
   "source": [
    "print(\"X.shape:\", X.shape)\n",
    "print(\"Y.shape:\", Y.shape)\n"
   ]
  },
  {
   "cell_type": "code",
   "execution_count": 151,
   "metadata": {},
   "outputs": [],
   "source": [
    "def softmax(x, axis=1):\n",
    "    \"\"\"Softmax activation function.\n",
    "    # Arguments\n",
    "        x : Tensor.\n",
    "        axis: Integer, axis along which the softmax normalization is applied.\n",
    "    # Returns\n",
    "        Tensor, output of softmax transformation.\n",
    "    # Raises\n",
    "        ValueError: In case `dim(x) == 1`.\n",
    "    \"\"\"\n",
    "    ndim = K.ndim(x)\n",
    "    if ndim == 2:\n",
    "        return K.softmax(x)\n",
    "    elif ndim > 2:\n",
    "        e = K.exp(x - K.max(x, axis=axis, keepdims=True))\n",
    "        s = K.sum(e, axis=axis, keepdims=True)\n",
    "        return e / s\n",
    "    else:\n",
    "        raise ValueError('Cannot apply softmax to a tensor that is 1D')"
   ]
  },
  {
   "cell_type": "code",
   "execution_count": 152,
   "metadata": {},
   "outputs": [],
   "source": [
    "# Defined shared layers as global variables\n",
    "repeator = RepeatVector(Tx)\n",
    "concatenator = Concatenate(axis=-1)\n",
    "densor1 = Dense(10, activation = \"tanh\")\n",
    "densor2 = Dense(1, activation = \"relu\")\n",
    "activator = Activation(softmax, name='attention_weights') # We are using a custom softmax(axis = 1) loaded in this notebook\n",
    "dotor = Dot(axes = 1)"
   ]
  },
  {
   "cell_type": "code",
   "execution_count": 153,
   "metadata": {},
   "outputs": [],
   "source": [
    "def one_step_attention(a, s_prev):\n",
    "    \"\"\"\n",
    "    Performs one step of attention: Outputs a context vector computed as a dot product of the attention weights\n",
    "    \"alphas\" and the hidden states \"a\" of the Bi-LSTM.\n",
    "    \n",
    "    Arguments:\n",
    "    a -- hidden state output of the Bi-LSTM, numpy-array of shape (m, Tx, 2*n_a)\n",
    "    s_prev -- previous hidden state of the (post-attention) LSTM, numpy-array of shape (m, n_s)\n",
    "    \n",
    "    Returns:\n",
    "    context -- context vector, input of the next (post-attetion) LSTM cell\n",
    "    \"\"\"\n",
    "    \n",
    "    ### START CODE HERE ###\n",
    "    # Use repeator to repeat s_prev to be of shape (m, Tx, n_s) so that you can concatenate it with all hidden states \"a\" (≈ 1 line)\n",
    "    s_prev = repeator(s_prev)\n",
    "    # Use concatenator to concatenate a and s_prev on the last axis (≈ 1 line)\n",
    "    concat = concatenator([a,s_prev])\n",
    "    # Use densor1 to propagate concat through a small fully-connected neural network to compute the \"intermediate energies\" variable e. (≈1 lines)\n",
    "    e = densor1(concat)\n",
    "    # Use densor2 to propagate e through a small fully-connected neural network to compute the \"energies\" variable energies. (≈1 lines)\n",
    "    energies = densor2(e)\n",
    "    # Use \"activator\" on \"energies\" to compute the attention weights \"alphas\" (≈ 1 line)\n",
    "    alphas =  activator(energies)\n",
    "    # Use dotor together with \"alphas\" and \"a\" to compute the context vector to be given to the next (post-attention) LSTM-cell (≈ 1 line)\n",
    "    context = dotor([ alphas,a])\n",
    "    ### END CODE HERE ###\n",
    "    \n",
    "    return context"
   ]
  },
  {
   "cell_type": "code",
   "execution_count": 154,
   "metadata": {},
   "outputs": [
    {
     "data": {
      "text/plain": [
       "<tf.Tensor 's0_7:0' shape=(?, 64) dtype=float32>"
      ]
     },
     "execution_count": 154,
     "metadata": {},
     "output_type": "execute_result"
    }
   ],
   "source": [
    "n_a = 32\n",
    "n_s = 64\n",
    "post_activation_LSTM_cell = LSTM(n_s, return_state = True)\n",
    "output_layer = Dense(len(machine_vocab), activation=softmax)\n",
    "Input(shape=(n_s,), name='s0')"
   ]
  },
  {
   "cell_type": "code",
   "execution_count": 155,
   "metadata": {},
   "outputs": [],
   "source": [
    "def model(Tx, Ty, n_a, n_s, human_vocab_size, machine_vocab_size):\n",
    "    \"\"\"\n",
    "    Arguments:\n",
    "    Tx -- length of the input sequence\n",
    "    Ty -- length of the output sequence\n",
    "    n_a -- hidden state size of the Bi-LSTM\n",
    "    n_s -- hidden state size of the post-attention LSTM\n",
    "    human_vocab_size -- size of the python dictionary \"human_vocab\"\n",
    "    machine_vocab_size -- size of the python dictionary \"machine_vocab\"\n",
    "\n",
    "    Returns:\n",
    "    model -- Keras model instance\n",
    "    \"\"\"\n",
    "    \n",
    "    # Define the inputs of your model with a shape (Tx,)\n",
    "    # Define s0 and c0, initial hidden state for the decoder LSTM of shape (n_s,)\n",
    "    X = Input(shape=(Tx, human_vocab_size))\n",
    "    s0 = Input(shape=(n_s,), name='s0')\n",
    "    c0 = Input(shape=(n_s,), name='c0')\n",
    "    s = s0\n",
    "    c = c0\n",
    "    \n",
    "    # Initialize empty list of outputs\n",
    "    outputs = []\n",
    "    \n",
    "    ### START CODE HERE ###\n",
    "    \n",
    "    # Step 1: Define your pre-attention Bi-LSTM. Remember to use return_sequences=True. (≈ 1 line)\n",
    "    a = Bidirectional(LSTM(n_a, return_sequences = True), input_shape = (m, Tx, n_a*2))(X)\n",
    "    \n",
    "    # Step 2: Iterate for Ty steps\n",
    "    for t in range(Ty):\n",
    "    \n",
    "        # Step 2.A: Perform one step of the attention mechanism to get back the context vector at step t (≈ 1 line)\n",
    "        context = one_step_attention(a, s)\n",
    "        \n",
    "        # Step 2.B: Apply the post-attention LSTM cell to the \"context\" vector.\n",
    "        # Don't forget to pass: initial_state = [hidden state, cell state] (≈ 1 line)\n",
    "        s, _, c =  post_activation_LSTM_cell(context,initial_state = [s, c])\n",
    "        \n",
    "        # Step 2.C: Apply Dense layer to the hidden state output of the post-attention LSTM (≈ 1 line)\n",
    "        out = output_layer(s)\n",
    "        \n",
    "        # Step 2.D: Append \"out\" to the \"outputs\" list (≈ 1 line)\n",
    "        outputs.append(out)\n",
    "    \n",
    "    # Step 3: Create model instance taking three inputs and returning the list of outputs. (≈ 1 line)\n",
    "    model = Model([X, s0, c0], outputs = outputs)\n",
    "    \n",
    "    ### END CODE HERE ###\n",
    "    \n",
    "    return model"
   ]
  },
  {
   "cell_type": "code",
   "execution_count": 156,
   "metadata": {},
   "outputs": [],
   "source": [
    "model = model(Tx, Ty, n_a, n_s, 1, 1)"
   ]
  },
  {
   "cell_type": "code",
   "execution_count": 157,
   "metadata": {},
   "outputs": [],
   "source": [
    "opt = Adam(lr = 0.005, beta_1 = 0.9, beta_2 = 0.999,decay = 0.01)  \n",
    "model.compile(loss = 'sparse_categorical_crossentropy', optimizer = opt,metrics = ['accuracy']) "
   ]
  },
  {
   "cell_type": "code",
   "execution_count": 158,
   "metadata": {},
   "outputs": [
    {
     "data": {
      "text/plain": [
       "(92579, 64)"
      ]
     },
     "execution_count": 158,
     "metadata": {},
     "output_type": "execute_result"
    }
   ],
   "source": [
    "s0 = np.zeros((m, n_s))\n",
    "c0 = np.zeros((m, n_s))\n",
    "outputs = list(Y.swapaxes(0,1))\n",
    "\n",
    "s0.shape\n",
    "c0.shape"
   ]
  },
  {
   "cell_type": "code",
   "execution_count": 159,
   "metadata": {
    "scrolled": true
   },
   "outputs": [
    {
     "name": "stdout",
     "output_type": "stream",
     "text": [
      "__________________________________________________________________________________________________\n",
      "Layer (type)                    Output Shape         Param #     Connected to                     \n",
      "==================================================================================================\n",
      "input_5 (InputLayer)            (None, 74, 1)        0                                            \n",
      "__________________________________________________________________________________________________\n",
      "s0 (InputLayer)                 (None, 64)           0                                            \n",
      "__________________________________________________________________________________________________\n",
      "bidirectional_5 (Bidirectional) (None, 74, 64)       8704        input_5[0][0]                    \n",
      "__________________________________________________________________________________________________\n",
      "repeat_vector_4 (RepeatVector)  (None, 74, 64)       0           s0[0][0]                         \n",
      "                                                                 lstm_8[0][0]                     \n",
      "                                                                 lstm_8[1][0]                     \n",
      "                                                                 lstm_8[2][0]                     \n",
      "                                                                 lstm_8[3][0]                     \n",
      "                                                                 lstm_8[4][0]                     \n",
      "                                                                 lstm_8[5][0]                     \n",
      "                                                                 lstm_8[6][0]                     \n",
      "                                                                 lstm_8[7][0]                     \n",
      "                                                                 lstm_8[8][0]                     \n",
      "                                                                 lstm_8[9][0]                     \n",
      "                                                                 lstm_8[10][0]                    \n",
      "                                                                 lstm_8[11][0]                    \n",
      "                                                                 lstm_8[12][0]                    \n",
      "__________________________________________________________________________________________________\n",
      "concatenate_4 (Concatenate)     (None, 74, 128)      0           bidirectional_5[0][0]            \n",
      "                                                                 repeat_vector_4[0][0]            \n",
      "                                                                 bidirectional_5[0][0]            \n",
      "                                                                 repeat_vector_4[1][0]            \n",
      "                                                                 bidirectional_5[0][0]            \n",
      "                                                                 repeat_vector_4[2][0]            \n",
      "                                                                 bidirectional_5[0][0]            \n",
      "                                                                 repeat_vector_4[3][0]            \n",
      "                                                                 bidirectional_5[0][0]            \n",
      "                                                                 repeat_vector_4[4][0]            \n",
      "                                                                 bidirectional_5[0][0]            \n",
      "                                                                 repeat_vector_4[5][0]            \n",
      "                                                                 bidirectional_5[0][0]            \n",
      "                                                                 repeat_vector_4[6][0]            \n",
      "                                                                 bidirectional_5[0][0]            \n",
      "                                                                 repeat_vector_4[7][0]            \n",
      "                                                                 bidirectional_5[0][0]            \n",
      "                                                                 repeat_vector_4[8][0]            \n",
      "                                                                 bidirectional_5[0][0]            \n",
      "                                                                 repeat_vector_4[9][0]            \n",
      "                                                                 bidirectional_5[0][0]            \n",
      "                                                                 repeat_vector_4[10][0]           \n",
      "                                                                 bidirectional_5[0][0]            \n",
      "                                                                 repeat_vector_4[11][0]           \n",
      "                                                                 bidirectional_5[0][0]            \n",
      "                                                                 repeat_vector_4[12][0]           \n",
      "                                                                 bidirectional_5[0][0]            \n",
      "                                                                 repeat_vector_4[13][0]           \n",
      "__________________________________________________________________________________________________\n",
      "dense_10 (Dense)                (None, 74, 10)       1290        concatenate_4[0][0]              \n",
      "                                                                 concatenate_4[1][0]              \n",
      "                                                                 concatenate_4[2][0]              \n",
      "                                                                 concatenate_4[3][0]              \n",
      "                                                                 concatenate_4[4][0]              \n",
      "                                                                 concatenate_4[5][0]              \n",
      "                                                                 concatenate_4[6][0]              \n",
      "                                                                 concatenate_4[7][0]              \n",
      "                                                                 concatenate_4[8][0]              \n",
      "                                                                 concatenate_4[9][0]              \n",
      "                                                                 concatenate_4[10][0]             \n",
      "                                                                 concatenate_4[11][0]             \n",
      "                                                                 concatenate_4[12][0]             \n",
      "                                                                 concatenate_4[13][0]             \n",
      "__________________________________________________________________________________________________\n",
      "dense_11 (Dense)                (None, 74, 1)        11          dense_10[0][0]                   \n",
      "                                                                 dense_10[1][0]                   \n",
      "                                                                 dense_10[2][0]                   \n",
      "                                                                 dense_10[3][0]                   \n",
      "                                                                 dense_10[4][0]                   \n",
      "                                                                 dense_10[5][0]                   \n",
      "                                                                 dense_10[6][0]                   \n",
      "                                                                 dense_10[7][0]                   \n",
      "                                                                 dense_10[8][0]                   \n",
      "                                                                 dense_10[9][0]                   \n",
      "                                                                 dense_10[10][0]                  \n",
      "                                                                 dense_10[11][0]                  \n",
      "                                                                 dense_10[12][0]                  \n",
      "                                                                 dense_10[13][0]                  \n",
      "__________________________________________________________________________________________________\n",
      "attention_weights (Activation)  (None, 74, 1)        0           dense_11[0][0]                   \n",
      "                                                                 dense_11[1][0]                   \n",
      "                                                                 dense_11[2][0]                   \n",
      "                                                                 dense_11[3][0]                   \n",
      "                                                                 dense_11[4][0]                   \n",
      "                                                                 dense_11[5][0]                   \n",
      "                                                                 dense_11[6][0]                   \n",
      "                                                                 dense_11[7][0]                   \n",
      "                                                                 dense_11[8][0]                   \n",
      "                                                                 dense_11[9][0]                   \n",
      "                                                                 dense_11[10][0]                  \n",
      "                                                                 dense_11[11][0]                  \n",
      "                                                                 dense_11[12][0]                  \n",
      "                                                                 dense_11[13][0]                  \n",
      "__________________________________________________________________________________________________\n",
      "dot_4 (Dot)                     (None, 1, 64)        0           attention_weights[0][0]          \n",
      "                                                                 bidirectional_5[0][0]            \n",
      "                                                                 attention_weights[1][0]          \n",
      "                                                                 bidirectional_5[0][0]            \n",
      "                                                                 attention_weights[2][0]          \n",
      "                                                                 bidirectional_5[0][0]            \n",
      "                                                                 attention_weights[3][0]          \n",
      "                                                                 bidirectional_5[0][0]            \n",
      "                                                                 attention_weights[4][0]          \n",
      "                                                                 bidirectional_5[0][0]            \n",
      "                                                                 attention_weights[5][0]          \n",
      "                                                                 bidirectional_5[0][0]            \n",
      "                                                                 attention_weights[6][0]          \n",
      "                                                                 bidirectional_5[0][0]            \n",
      "                                                                 attention_weights[7][0]          \n",
      "                                                                 bidirectional_5[0][0]            \n",
      "                                                                 attention_weights[8][0]          \n",
      "                                                                 bidirectional_5[0][0]            \n",
      "                                                                 attention_weights[9][0]          \n",
      "                                                                 bidirectional_5[0][0]            \n",
      "                                                                 attention_weights[10][0]         \n",
      "                                                                 bidirectional_5[0][0]            \n",
      "                                                                 attention_weights[11][0]         \n",
      "                                                                 bidirectional_5[0][0]            \n",
      "                                                                 attention_weights[12][0]         \n",
      "                                                                 bidirectional_5[0][0]            \n",
      "                                                                 attention_weights[13][0]         \n",
      "                                                                 bidirectional_5[0][0]            \n",
      "__________________________________________________________________________________________________\n",
      "c0 (InputLayer)                 (None, 64)           0                                            \n",
      "__________________________________________________________________________________________________\n",
      "lstm_8 (LSTM)                   [(None, 64), (None,  33024       dot_4[0][0]                      \n",
      "                                                                 s0[0][0]                         \n",
      "                                                                 c0[0][0]                         \n",
      "                                                                 dot_4[1][0]                      \n",
      "                                                                 lstm_8[0][0]                     \n",
      "                                                                 lstm_8[0][2]                     \n",
      "                                                                 dot_4[2][0]                      \n",
      "                                                                 lstm_8[1][0]                     \n",
      "                                                                 lstm_8[1][2]                     \n",
      "                                                                 dot_4[3][0]                      \n",
      "                                                                 lstm_8[2][0]                     \n",
      "                                                                 lstm_8[2][2]                     \n",
      "                                                                 dot_4[4][0]                      \n",
      "                                                                 lstm_8[3][0]                     \n",
      "                                                                 lstm_8[3][2]                     \n",
      "                                                                 dot_4[5][0]                      \n",
      "                                                                 lstm_8[4][0]                     \n",
      "                                                                 lstm_8[4][2]                     \n",
      "                                                                 dot_4[6][0]                      \n",
      "                                                                 lstm_8[5][0]                     \n",
      "                                                                 lstm_8[5][2]                     \n",
      "                                                                 dot_4[7][0]                      \n",
      "                                                                 lstm_8[6][0]                     \n",
      "                                                                 lstm_8[6][2]                     \n",
      "                                                                 dot_4[8][0]                      \n",
      "                                                                 lstm_8[7][0]                     \n",
      "                                                                 lstm_8[7][2]                     \n",
      "                                                                 dot_4[9][0]                      \n",
      "                                                                 lstm_8[8][0]                     \n",
      "                                                                 lstm_8[8][2]                     \n",
      "                                                                 dot_4[10][0]                     \n",
      "                                                                 lstm_8[9][0]                     \n",
      "                                                                 lstm_8[9][2]                     \n",
      "                                                                 dot_4[11][0]                     \n",
      "                                                                 lstm_8[10][0]                    \n",
      "                                                                 lstm_8[10][2]                    \n",
      "                                                                 dot_4[12][0]                     \n",
      "                                                                 lstm_8[11][0]                    \n",
      "                                                                 lstm_8[11][2]                    \n",
      "                                                                 dot_4[13][0]                     \n",
      "                                                                 lstm_8[12][0]                    \n",
      "                                                                 lstm_8[12][2]                    \n",
      "__________________________________________________________________________________________________\n",
      "dense_12 (Dense)                (None, 47799)        3106935     lstm_8[0][0]                     \n",
      "                                                                 lstm_8[1][0]                     \n",
      "                                                                 lstm_8[2][0]                     \n",
      "                                                                 lstm_8[3][0]                     \n",
      "                                                                 lstm_8[4][0]                     \n",
      "                                                                 lstm_8[5][0]                     \n",
      "                                                                 lstm_8[6][0]                     \n",
      "                                                                 lstm_8[7][0]                     \n",
      "                                                                 lstm_8[8][0]                     \n",
      "                                                                 lstm_8[9][0]                     \n",
      "                                                                 lstm_8[10][0]                    \n",
      "                                                                 lstm_8[11][0]                    \n",
      "                                                                 lstm_8[12][0]                    \n",
      "                                                                 lstm_8[13][0]                    \n",
      "==================================================================================================\n",
      "Total params: 3,149,964\n",
      "Trainable params: 3,149,964\n",
      "Non-trainable params: 0\n",
      "__________________________________________________________________________________________________\n"
     ]
    }
   ],
   "source": [
    "model.summary()"
   ]
  },
  {
   "cell_type": "code",
   "execution_count": 160,
   "metadata": {},
   "outputs": [
    {
     "name": "stdout",
     "output_type": "stream",
     "text": [
      "Epoch 1/1\n",
      "92579/92579 [==============================] - 1203s 13ms/step - loss: 105.2095 - dense_12_loss: 4.6439 - dense_12_acc: 0.0092 - dense_12_acc_1: 0.0023 - dense_12_acc_2: 0.0027 - dense_12_acc_3: 0.0047 - dense_12_acc_4: 0.0047 - dense_12_acc_5: 0.0078 - dense_12_acc_6: 0.0175 - dense_12_acc_7: 0.0364 - dense_12_acc_8: 0.0705 - dense_12_acc_9: 0.1277 - dense_12_acc_10: 0.2112 - dense_12_acc_11: 0.3197 - dense_12_acc_12: 0.4415 - dense_12_acc_13: 0.5535\n"
     ]
    },
    {
     "data": {
      "text/plain": [
       "<keras.callbacks.History at 0x151026b10>"
      ]
     },
     "execution_count": 160,
     "metadata": {},
     "output_type": "execute_result"
    }
   ],
   "source": [
    "model.fit([X, s0, c0], outputs, epochs=1, batch_size=1000)"
   ]
  },
  {
   "cell_type": "code",
   "execution_count": 161,
   "metadata": {},
   "outputs": [],
   "source": [
    "EXAMPLES = ['it cost more than to develop and doesn t come with French fries on the side',\n",
    "            'the response to the increasing natural disaster in pakistan is like so much else when it comes to American relations with that country too little and too tentative',\n",
    "            'seven Republican presidential contenders faced off Monday in one of the first debates of the primary season, offering policy ideas and criticism of president']\n"
   ]
  },
  {
   "cell_type": "code",
   "execution_count": 163,
   "metadata": {},
   "outputs": [
    {
     "name": "stdout",
     "output_type": "stream",
     "text": [
      "source: it cost more than to develop and doesn t come with French fries on the side\n",
      "output: ['zynga', 'zynga', 'zynga', 'zynga', 'zynga', 'zynga', 'zynga', 'zynga', 'zynga', 'zynga', 'zynga', 'zynga', 'zynga', 'zynga']\n",
      "source: the response to the increasing natural disaster in pakistan is like so much else when it comes to American relations with that country too little and too tentative\n",
      "output: ['zynga', 'zynga', 'zynga', 'zynga', 'zynga', 'zynga', 'zynga', 'zynga', 'zynga', 'zynga', 'zynga', 'zynga', 'zynga', 'zynga']\n",
      "source: seven Republican presidential contenders faced off Monday in one of the first debates of the primary season, offering policy ideas and criticism of president\n",
      "output: ['zynga', 'zynga', 'zynga', 'zynga', 'zynga', 'zynga', 'zynga', 'zynga', 'zynga', 'zynga', 'zynga', 'zynga', 'zynga', 'zynga']\n"
     ]
    }
   ],
   "source": [
    "for example in EXAMPLES:   \n",
    "    source = np.array([string_to_int(example, Tx, human_vocab)])\n",
    "    prediction = model.predict([source, s0, c0])\n",
    "    prediction = np.argmax(prediction, axis = -1)\n",
    "    output = [inv_machine[int(i)] for i in prediction]\n",
    "\n",
    "    print \"source: {}\".format(example)\n",
    "    print\"output: {}\".format(output)"
   ]
  },
  {
   "cell_type": "code",
   "execution_count": null,
   "metadata": {},
   "outputs": [],
   "source": []
  }
 ],
 "metadata": {
  "kernelspec": {
   "display_name": "Python 2",
   "language": "python",
   "name": "python2"
  },
  "language_info": {
   "codemirror_mode": {
    "name": "ipython",
    "version": 2
   },
   "file_extension": ".py",
   "mimetype": "text/x-python",
   "name": "python",
   "nbconvert_exporter": "python",
   "pygments_lexer": "ipython2",
   "version": "2.7.10"
  }
 },
 "nbformat": 4,
 "nbformat_minor": 2
}
